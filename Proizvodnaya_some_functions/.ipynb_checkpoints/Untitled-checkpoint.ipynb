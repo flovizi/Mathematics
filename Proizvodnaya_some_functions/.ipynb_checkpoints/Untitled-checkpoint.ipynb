{
 "cells": [
  {
   "cell_type": "markdown",
   "metadata": {},
   "source": [
    "### Домашнее задание \"Производная функции нескольких аргументов\""
   ]
  },
  {
   "cell_type": "code",
   "execution_count": 1,
   "metadata": {},
   "outputs": [],
   "source": [
    "import numpy as np\n",
    "from scipy.optimize import approx_fprime\n",
    "from scipy.optimize import minimize"
   ]
  },
  {
   "cell_type": "markdown",
   "metadata": {},
   "source": [
    "#### Уровень 0:\n",
    "Посчитайте частные производные функций:\n",
    "\n",
    "1) $f(x,y)=2x^2y^3 + 1/x + y^2x + 7$, а для этой функции также градиент в точке $(1,2)$\n",
    "\n",
    "2) $f(x,y)=x^2y - sin(xy) + cos(x^2) + 6y$"
   ]
  },
  {
   "cell_type": "code",
   "execution_count": 2,
   "metadata": {},
   "outputs": [],
   "source": [
    "def func(x, c0, c1, c2, c3):\n",
    "    return c0*(x[0]**2)*(x[1]**3) + c1*x[0]**(-1) + c2*(x[1]**2)*x[0] + c3\n",
    "\n",
    "x = np.array([1, 2], dtype=np.float)\n",
    "c0, c1, c2, c3 = (2, 1, 1, 7)"
   ]
  },
  {
   "cell_type": "code",
   "execution_count": 3,
   "metadata": {},
   "outputs": [
    {
     "data": {
      "text/plain": [
       "array([35.00000024, 28.00000273])"
      ]
     },
     "execution_count": 3,
     "metadata": {},
     "output_type": "execute_result"
    }
   ],
   "source": [
    "eps = np.sqrt(np.finfo(float).eps)\n",
    "grad = approx_fprime(x, func, [eps, np.sqrt(200) * eps], c0, c1, c2, c3)\n",
    "grad   # градиент"
   ]
  },
  {
   "cell_type": "markdown",
   "metadata": {},
   "source": [
    "Частные производные по (x)  и  (y)\n",
    "\n",
    "$f'x = (2x^2y^3 + 1/x + y^2x + 7$)'x  =  (2$*2*x*y^3 - x^-2 + y^2 + 0$)  =  35\n",
    "\n",
    "$f'y = (2x^2y^3 + 1/x + y^2x + 7$)'y  =  (2$*x^2*3*y^2 + 0 + 2yx + 0$)  =  28"
   ]
  },
  {
   "cell_type": "code",
   "execution_count": null,
   "metadata": {},
   "outputs": [],
   "source": []
  },
  {
   "cell_type": "code",
   "execution_count": 11,
   "metadata": {},
   "outputs": [],
   "source": [
    "def func_2(x, c0, c1, c2, c3):\n",
    "    return c0*(x[0]**2)*x[1] - c1*np.sin(x[0]*x[1]) + c2*np.cos(x[0]**2) + c3*x[1]\n",
    "\n",
    "x = np.array([1, 2], dtype=np.float)\n",
    "c0, c1, c2, c3 = (1, 1, 1, 6)"
   ]
  },
  {
   "cell_type": "code",
   "execution_count": 12,
   "metadata": {},
   "outputs": [
    {
     "data": {
      "text/plain": [
       "array([3.14935184, 7.41614687])"
      ]
     },
     "execution_count": 12,
     "metadata": {},
     "output_type": "execute_result"
    }
   ],
   "source": [
    "# проверим градиент\n",
    "eps = np.sqrt(np.finfo(float).eps)\n",
    "grad = approx_fprime(x, func_2, [eps, eps], c0, c1, c2, c3)\n",
    "grad"
   ]
  },
  {
   "cell_type": "markdown",
   "metadata": {},
   "source": [
    "Частные производные по (x)  и  (y)\n",
    "\n",
    "$f'x = (x^2y - sin(xy) + cos(x^2) + 6y$)'x = ($2xy - ycos(xy) - 2xsin(x^2) + 0$)\n",
    "\n",
    "$f'y = (x^2y - sin(xy) + cos(x^2) + 6y$)'y = ($x^2 - xcos(xy) + 0 + 6$)"
   ]
  },
  {
   "cell_type": "code",
   "execution_count": 21,
   "metadata": {},
   "outputs": [
    {
     "name": "stdout",
     "output_type": "stream",
     "text": [
      "f_x = 3.149351703478492\n",
      "f_y = 7.416146836547142\n"
     ]
    }
   ],
   "source": [
    "import sympy \n",
    "from sympy import * \n",
    "x1, y1 = symbols('x1 y1') \n",
    "x1 = 1\n",
    "y1 = 2\n",
    "\n",
    "f_x = 2*x1*y1 - y1*np.cos(x1*y1) - 2*x1*np.sin(x1**2)\n",
    "print(f'f_x = {f_x}')\n",
    "f_y = x1**2 - x1*np.cos(x1*y1) + 6\n",
    "print(f'f_y = {f_y}')\n"
   ]
  },
  {
   "cell_type": "markdown",
   "metadata": {},
   "source": [
    "#### Уровень 1:\n",
    "Градиентный спуск своими руками:"
   ]
  },
  {
   "cell_type": "code",
   "execution_count": 2,
   "metadata": {},
   "outputs": [],
   "source": [
    "def f(x):\n",
    "    return (x[0]**2) + (x[1]**2)"
   ]
  },
  {
   "cell_type": "code",
   "execution_count": 3,
   "metadata": {},
   "outputs": [],
   "source": [
    "x = np.array([100, 200])\n",
    "learning_rate = 0.1"
   ]
  },
  {
   "cell_type": "code",
   "execution_count": null,
   "metadata": {},
   "outputs": [],
   "source": [
    "for i in range(100):\n",
    "    # Calculate gradient\n",
    "    grad = # Your code here (функция для вычисления градиента есть в лекционном ноутбуке)\n",
    "    \n",
    "    # Update x with gradient\n",
    "    x = # Your code here (смотри слайд презентации про градиентный спуск)"
   ]
  },
  {
   "cell_type": "code",
   "execution_count": 4,
   "metadata": {},
   "outputs": [
    {
     "name": "stdout",
     "output_type": "stream",
     "text": [
      "[5.09259042e-08 1.01851802e-07]\n",
      "[1.29197811e-08 3.32901401e-08]\n"
     ]
    }
   ],
   "source": [
    "eps = np.sqrt(np.finfo(float).eps)\n",
    "for i in range(100):\n",
    "    grad = approx_fprime(x, f, [eps, eps])\n",
    "    x = x - learning_rate * grad\n",
    "print(grad)\n",
    "print(x)"
   ]
  },
  {
   "cell_type": "code",
   "execution_count": 7,
   "metadata": {},
   "outputs": [
    {
     "name": "stdout",
     "output_type": "stream",
     "text": [
      "Минимум достигается в:  [1.29197811e-08 3.32901401e-08]\n",
      "Значение функции в минимуме:  1.2751541739575584e-15\n"
     ]
    }
   ],
   "source": [
    "print(\"Минимум достигается в: \", x)\n",
    "print(\"Значение функции в минимуме: \", f(x))"
   ]
  },
  {
   "cell_type": "markdown",
   "metadata": {},
   "source": [
    "Проверка с помощью встроенной функции numpy:"
   ]
  },
  {
   "cell_type": "code",
   "execution_count": 5,
   "metadata": {},
   "outputs": [
    {
     "name": "stdout",
     "output_type": "stream",
     "text": [
      "Optimization terminated successfully.\n",
      "         Current function value: 0.000000\n",
      "         Iterations: 1\n",
      "         Function evaluations: 3\n"
     ]
    }
   ],
   "source": [
    "rec = minimize(f, x, method = 'nelder-mead', options = {'xtol': 1e-8, 'disp': True})"
   ]
  },
  {
   "cell_type": "code",
   "execution_count": 6,
   "metadata": {},
   "outputs": [
    {
     "data": {
      "text/plain": [
       "array([1.29197811e-08, 3.32901401e-08])"
      ]
     },
     "execution_count": 6,
     "metadata": {},
     "output_type": "execute_result"
    }
   ],
   "source": [
    "rec.x"
   ]
  },
  {
   "cell_type": "code",
   "execution_count": null,
   "metadata": {},
   "outputs": [],
   "source": []
  }
 ],
 "metadata": {
  "kernelspec": {
   "display_name": "Python 3",
   "language": "python",
   "name": "python3"
  },
  "language_info": {
   "codemirror_mode": {
    "name": "ipython",
    "version": 3
   },
   "file_extension": ".py",
   "mimetype": "text/x-python",
   "name": "python",
   "nbconvert_exporter": "python",
   "pygments_lexer": "ipython3",
   "version": "3.8.3"
  }
 },
 "nbformat": 4,
 "nbformat_minor": 4
}
