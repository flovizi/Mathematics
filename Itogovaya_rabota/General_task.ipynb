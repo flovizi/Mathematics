{
 "cells": [
  {
   "cell_type": "markdown",
   "metadata": {},
   "source": [
    "##  Итоговая работа"
   ]
  },
  {
   "cell_type": "code",
   "execution_count": 1,
   "metadata": {},
   "outputs": [],
   "source": [
    "import matplotlib.pyplot as plt\n",
    "import numpy as np\n",
    "\n",
    "from scipy.optimize import minimize\n",
    "%matplotlib inline"
   ]
  },
  {
   "cell_type": "markdown",
   "metadata": {},
   "source": [
    "### Задание 1\n",
    "Дана матрица рейтингов фильмов (строки - пользователи (10 человек), столбцы - фильмы (15 фильмов))"
   ]
  },
  {
   "cell_type": "code",
   "execution_count": 2,
   "metadata": {},
   "outputs": [
    {
     "data": {
      "text/plain": [
       "array([[ 4,  4,  9,  4,  1,  6, 10,  7,  9,  6,  9,  2,  8,  6,  6],\n",
       "       [ 9,  2,  5, 10,  7,  8, 10,  5,  6,  2,  1,  6,  8,  9,  7],\n",
       "       [ 1,  6,  8,  8,  4,  9,  3,  8, 10,  5,  2,  6,  8,  1,  6],\n",
       "       [ 6,  1,  9,  7,  7,  9,  2,  3,  5,  1,  6,  6,  3,  2,  7],\n",
       "       [ 3,  7,  3,  5,  7,  9,  9,  6,  2,  9,  1,  2,  8, 10,  6],\n",
       "       [ 8,  3,  7,  3,  8,  6,  1,  8,  8,  6,  1,  9,  4, 10,  1],\n",
       "       [ 9,  8,  4,  8,  8, 10,  6,  1,  1,  2,  9,  5,  2,  7,  2],\n",
       "       [ 4,  1,  6,  4,  3, 10,  4,  4,  2,  8,  7,  9,  3,  8,  3],\n",
       "       [ 2,  7,  7,  6, 10,  6,  8,  9,  8,  6, 10,  1,  7, 10,  4],\n",
       "       [ 5, 10,  8,  8,  9,  7,  2,  9,  9, 10,  8,  8,  8,  6, 10]])"
      ]
     },
     "execution_count": 2,
     "metadata": {},
     "output_type": "execute_result"
    }
   ],
   "source": [
    "raitings = np.array([[ 4,  4,  9,  4,  1,  6, 10,  7,  9,  6,  9,  2,  8,  6,  6],\n",
    "                     [ 9,  2,  5, 10,  7,  8, 10,  5,  6,  2,  1,  6,  8,  9,  7],\n",
    "                     [ 1,  6,  8,  8,  4,  9,  3,  8, 10,  5,  2,  6,  8,  1,  6],\n",
    "                     [ 6,  1,  9,  7,  7,  9,  2,  3,  5,  1,  6,  6,  3,  2,  7],\n",
    "                     [ 3,  7,  3,  5,  7,  9,  9,  6,  2,  9,  1,  2,  8, 10,  6],\n",
    "                     [ 8,  3,  7,  3,  8,  6,  1,  8,  8,  6,  1,  9,  4, 10,  1],\n",
    "                     [ 9,  8,  4,  8,  8, 10,  6,  1,  1,  2,  9,  5,  2,  7,  2],\n",
    "                     [ 4,  1,  6,  4,  3, 10,  4,  4,  2,  8,  7,  9,  3,  8,  3],\n",
    "                     [ 2,  7,  7,  6, 10,  6,  8,  9,  8,  6, 10,  1,  7, 10,  4],\n",
    "                     [ 5, 10,  8,  8,  9,  7,  2,  9,  9, 10,  8,  8,  8,  6, 10]], np.int32)\n",
    "raitings"
   ]
  },
  {
   "cell_type": "markdown",
   "metadata": {},
   "source": [
    "a) Необходимо найти наиболее похожего пользователя по косинусной метрике для каждого из (ответ: 10 пар вида (x, y), где y - наиболее похожий пользователь на пользователя x).\n",
    "\n",
    "b) Предположим, вы захотели сжать признаковые описания пользователя с 15 фильмов, до, скажем, 5-ти признаков, как вы это сделаете?"
   ]
  },
  {
   "cell_type": "code",
   "execution_count": 26,
   "metadata": {
    "scrolled": false
   },
   "outputs": [
    {
     "data": {
      "text/plain": [
       "array([[0.        , 0.17397081, 0.15078471, 0.21659884, 0.18082368,\n",
       "        0.25881452, 0.27264172, 0.19032478, 0.08934018, 0.13989224],\n",
       "       [0.17397081, 0.        , 0.18765675, 0.15364663, 0.12861948,\n",
       "        0.17286893, 0.17370316, 0.19973997, 0.17473692, 0.18031873],\n",
       "       [0.15078471, 0.18765675, 0.        , 0.15330626, 0.21605701,\n",
       "        0.20902015, 0.32383777, 0.23710448, 0.17887923, 0.08126949],\n",
       "       [0.21659884, 0.15364663, 0.15330626, 0.        , 0.30846591,\n",
       "        0.21334208, 0.16725789, 0.17065333, 0.2229334 , 0.1411313 ],\n",
       "       [0.18082368, 0.12861948, 0.21605701, 0.30846591, 0.        ,\n",
       "        0.2235566 , 0.21799532, 0.18763131, 0.12051523, 0.15425211],\n",
       "       [0.25881452, 0.17286893, 0.20902015, 0.21334208, 0.2235566 ,\n",
       "        0.        , 0.25988199, 0.15548315, 0.19377124, 0.14485092],\n",
       "       [0.27264172, 0.17370316, 0.32383777, 0.16725789, 0.21799532,\n",
       "        0.25988199, 0.        , 0.17330826, 0.18869956, 0.20845282],\n",
       "       [0.19032478, 0.19973997, 0.23710448, 0.17065333, 0.18763131,\n",
       "        0.15548315, 0.17330826, 0.        , 0.2018724 , 0.16317771],\n",
       "       [0.08934018, 0.17473692, 0.17887923, 0.2229334 , 0.12051523,\n",
       "        0.19377124, 0.18869956, 0.2018724 , 0.        , 0.09906203],\n",
       "       [0.13989224, 0.18031873, 0.08126949, 0.1411313 , 0.15425211,\n",
       "        0.14485092, 0.20845282, 0.16317771, 0.09906203, 0.        ]])"
      ]
     },
     "execution_count": 26,
     "metadata": {},
     "output_type": "execute_result"
    }
   ],
   "source": [
    "# a)\n",
    "\n",
    "from sklearn.metrics import pairwise_distances\n",
    "from numpy import linalg as LA\n",
    "import sklearn.metrics\n",
    "\n",
    "#x = sklearn.metrics.pairwise.cosine_distances(raitings)\n",
    "pairwise_distances(raitings, metric = 'cosine')"
   ]
  },
  {
   "cell_type": "code",
   "execution_count": 27,
   "metadata": {},
   "outputs": [
    {
     "name": "stdout",
     "output_type": "stream",
     "text": [
      "0 8\n",
      "1 4\n",
      "2 9\n",
      "3 9\n",
      "4 8\n",
      "5 9\n",
      "6 3\n",
      "7 5\n",
      "8 0\n",
      "9 2\n"
     ]
    }
   ],
   "source": [
    "for i, vector in enumerate(pairwise_distances(raitings, metric=\"cosine\")):\n",
    "    print(i, list(vector).index(np.min(vector[np.nonzero(vector)])))"
   ]
  },
  {
   "cell_type": "code",
   "execution_count": 6,
   "metadata": {},
   "outputs": [
    {
     "data": {
      "text/plain": [
       "array([[-5.30986101,  1.92919845, -4.93300027,  2.70188013,  5.50497886],\n",
       "       [ 2.87763403,  2.71659559,  1.40592782,  7.26325751, -4.50322291],\n",
       "       [-4.94010408, -6.68861167, -0.94550184,  3.61556661, -0.68969272],\n",
       "       [ 5.14939908, -6.28027284, -4.65978558,  1.09024004, -1.01471112],\n",
       "       [-1.37488691,  7.54357985,  4.00834369,  2.1284001 , -0.16324949],\n",
       "       [ 2.65341956, -3.77075601,  8.58430748, -1.46628319,  1.67401769],\n",
       "       [ 8.61573944,  3.78603335, -4.02721027, -4.37582577, -3.13880277],\n",
       "       [ 5.39658258, -1.0170466 ,  1.01456742, -1.89512837,  6.54883538],\n",
       "       [-5.7843488 ,  5.29857107, -1.48083611, -3.71295542,  0.21312695],\n",
       "       [-7.2835739 , -3.51729118,  1.03318766, -5.34915166, -4.43127987]])"
      ]
     },
     "execution_count": 6,
     "metadata": {},
     "output_type": "execute_result"
    }
   ],
   "source": [
    "# b) методы сжатия матрицы\n",
    "\n",
    "# Анализ главных компонентов (PCA)\n",
    "\n",
    "from sklearn.decomposition import PCA\n",
    "\n",
    "pca = PCA(n_components=5)\n",
    "pca.fit_transform(raitings)"
   ]
  },
  {
   "cell_type": "code",
   "execution_count": 7,
   "metadata": {},
   "outputs": [
    {
     "data": {
      "text/plain": [
       "array([[23.41982063, -5.36092136,  3.83196779, -4.06950174,  1.10267269],\n",
       "       [24.76774917,  4.52188701,  1.35815965,  1.58128545,  8.59912002],\n",
       "       [22.27728589, -6.96492049, -4.84461485, -0.47661647,  3.37152266],\n",
       "       [19.4257757 ,  2.64575227, -6.86014009, -4.76604765,  1.96075707],\n",
       "       [22.8146354 ,  0.51464093,  7.70180188,  4.42379773,  1.29124163],\n",
       "       [21.76961656,  1.94294987, -4.56934779,  8.32306487, -2.21887359],\n",
       "       [21.23427453,  9.78047778,  1.16340271, -4.86074521, -2.60815471],\n",
       "       [19.97476815,  4.00048677, -1.67456316,  1.1512346 , -3.5637169 ],\n",
       "       [26.39306998, -3.03090482,  5.86422753, -1.67503491, -3.71500141],\n",
       "       [29.94016844, -4.82012297, -3.48912415,  0.05527083, -3.62526487]])"
      ]
     },
     "execution_count": 7,
     "metadata": {},
     "output_type": "execute_result"
    }
   ],
   "source": [
    "# усеченый SVD (также известный как LSA)\n",
    "\n",
    "from sklearn.decomposition import TruncatedSVD\n",
    "\n",
    "svd = TruncatedSVD(n_components=5)\n",
    "svd.fit_transform(raitings)"
   ]
  },
  {
   "cell_type": "code",
   "execution_count": 8,
   "metadata": {},
   "outputs": [
    {
     "name": "stdout",
     "output_type": "stream",
     "text": [
      "[[73.97894988  0.          0.          0.          0.        ]\n",
      " [ 0.         15.90026986  0.          0.          0.        ]\n",
      " [ 0.          0.         14.76407467  0.          0.        ]\n",
      " [ 0.          0.          0.         12.59396914  0.        ]\n",
      " [ 0.          0.          0.          0.         11.97537142]\n",
      " [ 0.          0.          0.          0.          0.        ]\n",
      " [ 0.          0.          0.          0.          0.        ]\n",
      " [ 0.          0.          0.          0.          0.        ]\n",
      " [ 0.          0.          0.          0.          0.        ]\n",
      " [ 0.          0.          0.          0.          0.        ]]\n"
     ]
    }
   ],
   "source": [
    "# сингулярное разложение\n",
    "\n",
    "U, s, V = np.linalg.svd(raitings)\n",
    "n_component = 5\n",
    "S = np.diag(s)[:, :n_component]\n",
    "V = V[:n_component, :]\n",
    "A = U.dot(S.dot(V))\n",
    "print(S)"
   ]
  },
  {
   "cell_type": "code",
   "execution_count": null,
   "metadata": {},
   "outputs": [],
   "source": []
  },
  {
   "cell_type": "markdown",
   "metadata": {},
   "source": [
    "### Задание 2\n",
    "Вычислите производную $tg^2(sin(x) + cos(2x+3))$ в точке $x_0=1$ (на python и на бумаге)."
   ]
  },
  {
   "cell_type": "code",
   "execution_count": 9,
   "metadata": {},
   "outputs": [
    {
     "data": {
      "text/plain": [
       "55.3859176464222"
      ]
     },
     "execution_count": 9,
     "metadata": {},
     "output_type": "execute_result"
    }
   ],
   "source": [
    "# вычисление производной (первой по умолчанию)\n",
    "# scipy.misc.derivative(func, x0, dx=1.0, n=1, args=(), order=3)\n",
    "\n",
    "from scipy.misc import derivative\n",
    "\n",
    "def f(x):\n",
    "    return np.tan(np.sin(x) + np.cos(2*x + 3))**2\n",
    "\n",
    "derivative(f, 1.0, dx=1e-6)"
   ]
  },
  {
   "cell_type": "markdown",
   "metadata": {},
   "source": [
    "Решение на бумаге\n",
    "\n",
    "$ f'(x) = (tg^2(sin(x) + cos(2x+3)))'x = 2*tg(sin(x) + cos(2x+3))*(tg(sin(x) + cos(2x+3)))'x = 2*tg(sin(x) + cos(2x+3))*(sin(x) + cos(2x+3))'x / (cos^2(sin(x) + cos(2x+3))) = 2*tg(sin(x)+cos(2x+3))*(cos(x)-2*sin(2x+3)) / (cos^2(sin(x) + cos(2x+3))) = 2*tg(sin(1)+cos(5))*(cos(1)-2*sin(5)) / (cos^2(sin(1)+cos(5)))  = 55.38591763533786 $\n",
    "\n"
   ]
  },
  {
   "cell_type": "code",
   "execution_count": 10,
   "metadata": {},
   "outputs": [
    {
     "name": "stdout",
     "output_type": "stream",
     "text": [
      "55.38591763533786\n"
     ]
    }
   ],
   "source": [
    "# проверка счёта\n",
    "import sympy \n",
    "from sympy import *\n",
    "\n",
    "x = symbols('x') \n",
    "x = 1.0\n",
    "y = 2*np.tan(np.sin(x)+np.cos(2*x+3))*(np.cos(x)-2*np.sin(2*x+3)) / (np.cos(np.sin(x) + np.cos(2*x+3)))**2\n",
    "print(y)"
   ]
  },
  {
   "cell_type": "code",
   "execution_count": null,
   "metadata": {},
   "outputs": [],
   "source": []
  },
  {
   "cell_type": "markdown",
   "metadata": {},
   "source": [
    "### Задание 3\n",
    "Дана функция с неизвестными параметрами a и b, вам также известны значения функции fx в точках x. Найдите оптимальные параметры a, b, минимизирующие абсолютную ошибку error."
   ]
  },
  {
   "cell_type": "code",
   "execution_count": 2,
   "metadata": {},
   "outputs": [],
   "source": [
    "def f(x, a, b):\n",
    "    return np.e**a * np.sin(b*x) + x"
   ]
  },
  {
   "cell_type": "code",
   "execution_count": 3,
   "metadata": {},
   "outputs": [],
   "source": [
    "x = np.array([0.        , 0.26315789, 0.52631579, 0.78947368, 1.05263158,\n",
    "              1.31578947, 1.57894737, 1.84210526, 2.10526316, 2.36842105,\n",
    "              2.63157895, 2.89473684, 3.15789474, 3.42105263, 3.68421053,\n",
    "              3.94736842, 4.21052632, 4.47368421, 4.73684211, 5.        ])"
   ]
  },
  {
   "cell_type": "code",
   "execution_count": 4,
   "metadata": {},
   "outputs": [],
   "source": [
    "fx = np.array([  0.        , -12.01819092, -18.90968634, -17.68786571,\n",
    "                -8.7529108 ,   4.27524517,  16.06801336,  21.81250213,\n",
    "                19.22059845,   9.48411207,  -3.22273056, -13.48576488,\n",
    "               -16.91096359, -11.95866834,  -0.58630088,  12.56873816,\n",
    "                22.12489421,  24.20292139,  18.04522521,   6.33211092])"
   ]
  },
  {
   "cell_type": "code",
   "execution_count": 5,
   "metadata": {},
   "outputs": [
    {
     "data": {
      "image/png": "[encoded data removed]",
      "text/plain": [
       "<Figure size 432x288 with 1 Axes>"
      ]
     },
     "metadata": {
      "needs_background": "light"
     },
     "output_type": "display_data"
    }
   ],
   "source": [
    "plt.plot(x, fx)\n",
    "plt.show()"
   ]
  },
  {
   "cell_type": "code",
   "execution_count": 6,
   "metadata": {},
   "outputs": [],
   "source": [
    "def error(params):\n",
    "    return np.sum(np.abs(fx - f(x, params[0], params[1])))"
   ]
  },
  {
   "cell_type": "code",
   "execution_count": 7,
   "metadata": {},
   "outputs": [
    {
     "data": {
      "text/plain": [
       "array([ 3. , -2.5])"
      ]
     },
     "execution_count": 7,
     "metadata": {},
     "output_type": "execute_result"
    }
   ],
   "source": [
    "res = minimize(error, [0,0], method='COBYLA')\n",
    "np.around(res.x,2)"
   ]
  },
  {
   "cell_type": "code",
   "execution_count": null,
   "metadata": {},
   "outputs": [],
   "source": []
  },
  {
   "cell_type": "markdown",
   "metadata": {},
   "source": [
    "### Задание 4\n",
    "Создайте собственную дискретную случайную величину с 20 значениями. Сгенерируйте 1000 выборок размера 50. Посчитайте среднее для каждой выборки. Постройте гистограмму распределения средних."
   ]
  },
  {
   "cell_type": "code",
   "execution_count": 11,
   "metadata": {},
   "outputs": [],
   "source": [
    "import random\n",
    "import seaborn\n",
    "import scipy.stats as sts\n",
    "\n",
    "%matplotlib inline"
   ]
  },
  {
   "cell_type": "code",
   "execution_count": 14,
   "metadata": {},
   "outputs": [
    {
     "data": {
      "image/png": "[encoded data removed]",
      "text/plain": [
       "<Figure size 720x504 with 1 Axes>"
      ]
     },
     "metadata": {
      "needs_background": "light"
     },
     "output_type": "display_data"
    }
   ],
   "source": [
    "A = np.random.randint(100, size=20)   # случайная величина с 20-ю значениями\n",
    "\n",
    "#A = sts.norm(0, 2.5)    # создание нормально распределенной случайной величины\n",
    "#sam = A.rvs(size=20)\n",
    "\n",
    "plt.figure(figsize=(10,7))\n",
    "plt.hist(A, 13, density=1, facecolor='g', alpha=0.45)  # True = 1, False = 0  в \"density\"\n",
    "plt.xlabel('Number')\n",
    "plt.ylabel('Probability')\n",
    "plt.title('Histogram of random number')\n",
    "seaborn.distplot(A, kde=True, color='grey')     #плотность распределения\n",
    "plt.grid(True)\n",
    "plt.show()    # дополнительно к заданию построю распределение A"
   ]
  },
  {
   "cell_type": "code",
   "execution_count": 15,
   "metadata": {},
   "outputs": [
    {
     "data": {
      "image/png": "[encoded data removed]",
      "text/plain": [
       "<Figure size 720x504 with 1 Axes>"
      ]
     },
     "metadata": {
      "needs_background": "light"
     },
     "output_type": "display_data"
    }
   ],
   "source": [
    "a = np.array([])  # создадим пустой массив для наполнения средними\n",
    "for n in range(1000):\n",
    "    B = np.random.choice(A, size=50, replace=True)\n",
    "    mean = np.mean(B)  # среднее арифметическое элементов массива\n",
    "    a = np.append(a, mean)  # добавляем в массив\n",
    "    \n",
    "plt.figure(figsize=(10,7))\n",
    "plt.hist(a, 10, density=1, facecolor='g', alpha=0.45)  # True = 1, False = 0  в \"density\"\n",
    "plt.xlabel('Number')\n",
    "plt.ylabel('Probability')\n",
    "plt.title('Histogram of random number')\n",
    "plt.grid(True)\n",
    "seaborn.distplot(a, kde=True, color='grey')   # плотность распределения\n",
    "plt.show()\n",
    "\n",
    "\n",
    "# при достаточно большом количестве n распределение средних выборок распределено нормально (ЦПТ)"
   ]
  },
  {
   "cell_type": "code",
   "execution_count": null,
   "metadata": {},
   "outputs": [],
   "source": []
  },
  {
   "cell_type": "markdown",
   "metadata": {},
   "source": [
    "### Задание 5\n",
    "Найдите собственные значения и собственные вектора матрицы (на python и на бумаге)\n",
    "\n",
    "[[1, 4],\n",
    "\n",
    "[1, 1]]"
   ]
  },
  {
   "cell_type": "code",
   "execution_count": 16,
   "metadata": {},
   "outputs": [
    {
     "data": {
      "text/plain": [
       "array([[1, 4],\n",
       "       [1, 1]])"
      ]
     },
     "execution_count": 16,
     "metadata": {},
     "output_type": "execute_result"
    }
   ],
   "source": [
    "A = np.array([[1,4], [1,1]])\n",
    "A"
   ]
  },
  {
   "cell_type": "markdown",
   "metadata": {},
   "source": [
    "Функция linalg.eig() вычисляет собственные числа (значения) и собственные векторы квадратной матрицы."
   ]
  },
  {
   "cell_type": "code",
   "execution_count": 17,
   "metadata": {},
   "outputs": [],
   "source": [
    "w, v = np.linalg.eig(A)"
   ]
  },
  {
   "cell_type": "code",
   "execution_count": 18,
   "metadata": {},
   "outputs": [
    {
     "name": "stdout",
     "output_type": "stream",
     "text": [
      "[ 3. -1.]\n"
     ]
    }
   ],
   "source": [
    "# собственные значения\n",
    "print(w)"
   ]
  },
  {
   "cell_type": "code",
   "execution_count": 20,
   "metadata": {},
   "outputs": [
    {
     "name": "stdout",
     "output_type": "stream",
     "text": [
      "[[ 0.89442719 -0.89442719]\n",
      " [ 0.4472136   0.4472136 ]]\n"
     ]
    }
   ],
   "source": [
    "# собственные вектора\n",
    "print(v)"
   ]
  },
  {
   "cell_type": "code",
   "execution_count": 21,
   "metadata": {},
   "outputs": [
    {
     "name": "stdout",
     "output_type": "stream",
     "text": [
      "Собственное значение 3.0\n",
      "Соответствующий ему собственный вектор [0.89442719 0.4472136 ]\n",
      "\n",
      "Собственное значение -1.0\n",
      "Соответствующий ему собственный вектор [-0.89442719  0.4472136 ]\n",
      "\n"
     ]
    }
   ],
   "source": [
    "for i in range(len(w)):\n",
    "    print('Собственное значение ' + str(round(w[i], 3)))\n",
    "    print('Соответствующий ему собственный вектор ' + str(v[:, i]))\n",
    "    print()"
   ]
  },
  {
   "attachments": {
    "image.png": {
     "image/png": "[encoded data removed]"
    }
   },
   "cell_type": "markdown",
   "metadata": {},
   "source": [
    "**Решение \"на бумаге\"**\n",
    "\n",
    "![image.png](attachment:image.png)\n",
    "\n",
    "$ \\phi_A(\\lambda)= |\\frac{(1-\\lambda) ; 4)}{1; (1-\\lambda)}| $ \n",
    "\n",
    "$ \\phi_A(\\lambda)= (1-\\lambda)^2 - 4*1 = 1^2 - 2* 1*\\lambda + \\lambda^2 - 4 = \\lambda^2 - 2\\lambda - 3$\n",
    "\n",
    "$ \\phi_A(\\lambda)= 0 $\n",
    "\n",
    "$\\lambda^2 - 2\\lambda - 3 = 0$\n",
    "\n",
    "$D = 16$\n",
    "\n",
    "$\\sqrt{D} = 4 $\n",
    "\n",
    "$\\lambda {1,2} = \\frac{2 +_4}{2}$\n",
    "\n",
    "**$\\lambda1 = 3 $, $\\lambda2 = -1 $    # **собственные значения матрицы A**\n",
    "\n",
    "---\n",
    "$Av = \\lambda v$, $v !=0$\n",
    "\n",
    "$\\lambda = 3$\n",
    "\n",
    "$|\\frac{1;  4}{1;  1}|*|\\frac{x[1]}{x[2]}| = 3*|\\frac{x[1]}{x[2]}|$\n",
    "\n",
    "$|\\frac{x[1] + 4x[2]}{x[1] + x[2]}| = |\\frac{3x[1]}{3x[2]}|$\n",
    "\n",
    "$x[1] + 4x[2] = 3x[1]$     \n",
    "$x[1] + x[2] = 3x[2] $     \n",
    "\n",
    "$ x[1] = 2x[2] $\n",
    "\n",
    "Допустим х[1] = 1, тогда х[2] = 0.5\n",
    "\n",
    "____\n",
    "\n",
    "$\\lambda = -1$\n",
    "\n",
    "$|\\frac{1;  4}{1;  1}|*|\\frac{x[1]}{x[2]}| = -|\\frac{x[1]}{x[2]}|$\n",
    "\n",
    "$|\\frac{x[1] + 4x[2]}{x[1] + x[2]}| = |\\frac{-x[1]}{-x[2]}|$\n",
    "\n",
    "$x[1] + 4x[2] = -x[1]$     \n",
    "$x[1] + x[2] = -x[2] $ \n",
    "\n",
    "$ x[1] = -2x[2] $\n",
    "\n",
    "Допустим х[1] = 1, тогда х[2] = - 0.5\n",
    "\n",
    "-----\n",
    "**(или так)**\n",
    "\n",
    "$(A - \\lambda[1]E)*x  = 0$\n",
    "\n",
    "$\\lambda = 3$\n",
    "\n",
    "$|\\frac{1-3;  4}{1;  1-3}|*|\\frac{x[1]}{x[2]}|  = |\\frac{0}{0}|$\n",
    "\n",
    "$|\\frac{-2x[1];  4x[2]}{x[1];  -2x[2]}| = |\\frac{0}{0}|$\n",
    "\n",
    "$-2x[1] + 4x[2] = 0$\n",
    "$x[1] - 2x[2] = 0$\n",
    "\n",
    "$ x[1] = 2x[2] $\n",
    "\n",
    "Допустим х[1] = 1, тогда х[2] = 0.5\n",
    "\n",
    "_________\n",
    "\n",
    "$\\lambda = -1$\n",
    "\n",
    "$|\\frac{1+1;  4}{1;  1+1}|*|\\frac{x[1]}{x[2]}|  = |\\frac{0}{0}|$\n",
    "\n",
    "$|\\frac{2x[1];  4x[2]}{x[1];  2x[2]}| = |\\frac{0}{0}|$\n",
    "\n",
    "$2x[1] + 4x[2] = 0$\n",
    "$x[1] + 2x[2] = 0$\n",
    "\n",
    "$ x[1] = -2x[2]$\n",
    "\n",
    "Допустим х[1] = 1, тогда х[2] = - 0.5"
   ]
  },
  {
   "cell_type": "code",
   "execution_count": null,
   "metadata": {},
   "outputs": [],
   "source": []
  }
 ],
 "metadata": {
  "kernelspec": {
   "display_name": "Python 3",
   "language": "python",
   "name": "python3"
  },
  "language_info": {
   "codemirror_mode": {
    "name": "ipython",
    "version": 3
   },
   "file_extension": ".py",
   "mimetype": "text/x-python",
   "name": "python",
   "nbconvert_exporter": "python",
   "pygments_lexer": "ipython3",
   "version": "3.8.3"
  }
 },
 "nbformat": 4,
 "nbformat_minor": 4
}
